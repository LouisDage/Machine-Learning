{
 "cells": [
  {
   "cell_type": "markdown",
   "metadata": {},
   "source": [
    "## creation automatisée de playlist spotify\n",
    "\n",
    "Le dataset est issu de Kaggle: https://www.kaggle.com/tomigelo/spotify-audio-features\n",
    "\n",
    "\n",
    "La description des attributs du dataset est ici:\n",
    "https://developer.spotify.com/documentation/web-api/reference/tracks/get-audio-features/\n"
   ]
  },
  {
   "cell_type": "code",
   "execution_count": 1,
   "metadata": {
    "scrolled": true
   },
   "outputs": [
    {
     "name": "stdout",
     "output_type": "stream",
     "text": [
      "<class 'pandas.core.frame.DataFrame'>\n",
      "RangeIndex: 130663 entries, 0 to 130662\n",
      "Data columns (total 17 columns):\n",
      " #   Column            Non-Null Count   Dtype  \n",
      "---  ------            --------------   -----  \n",
      " 0   artist_name       130663 non-null  object \n",
      " 1   track_id          130663 non-null  object \n",
      " 2   track_name        130663 non-null  object \n",
      " 3   acousticness      130663 non-null  float64\n",
      " 4   danceability      130663 non-null  float64\n",
      " 5   duration_ms       130663 non-null  int64  \n",
      " 6   energy            130663 non-null  float64\n",
      " 7   instrumentalness  130663 non-null  float64\n",
      " 8   key               130663 non-null  int64  \n",
      " 9   liveness          130663 non-null  float64\n",
      " 10  loudness          130663 non-null  float64\n",
      " 11  mode              130663 non-null  int64  \n",
      " 12  speechiness       130663 non-null  float64\n",
      " 13  tempo             130663 non-null  float64\n",
      " 14  time_signature    130663 non-null  int64  \n",
      " 15  valence           130663 non-null  float64\n",
      " 16  popularity        130663 non-null  int64  \n",
      "dtypes: float64(9), int64(5), object(3)\n",
      "memory usage: 16.9+ MB\n",
      "None\n",
      "<class 'pandas.core.frame.DataFrame'>\n",
      "RangeIndex: 116372 entries, 0 to 116371\n",
      "Data columns (total 17 columns):\n",
      " #   Column            Non-Null Count   Dtype  \n",
      "---  ------            --------------   -----  \n",
      " 0   artist_name       116372 non-null  object \n",
      " 1   track_id          116372 non-null  object \n",
      " 2   track_name        116372 non-null  object \n",
      " 3   acousticness      116372 non-null  float64\n",
      " 4   danceability      116372 non-null  float64\n",
      " 5   duration_ms       116372 non-null  int64  \n",
      " 6   energy            116372 non-null  float64\n",
      " 7   instrumentalness  116372 non-null  float64\n",
      " 8   key               116372 non-null  int64  \n",
      " 9   liveness          116372 non-null  float64\n",
      " 10  loudness          116372 non-null  float64\n",
      " 11  mode              116372 non-null  int64  \n",
      " 12  speechiness       116372 non-null  float64\n",
      " 13  tempo             116372 non-null  float64\n",
      " 14  time_signature    116372 non-null  int64  \n",
      " 15  valence           116372 non-null  float64\n",
      " 16  popularity        116372 non-null  int64  \n",
      "dtypes: float64(9), int64(5), object(3)\n",
      "memory usage: 15.1+ MB\n",
      "None\n"
     ]
    }
   ],
   "source": [
    "from mpl_toolkits.mplot3d import Axes3D\n",
    "from sklearn.preprocessing import StandardScaler\n",
    "import matplotlib.pyplot as plt # plotting\n",
    "import numpy as np # linear algebra\n",
    "import os # accessing directory structure\n",
    "import pandas as pd # data processing, CSV file I/O (e.g. pd.read_csv)\n",
    "\n",
    "firstfile = pd.read_csv(\"SpotifyAudioFeaturesApril2019.csv\")\n",
    "secondfile = pd.read_csv(\"SpotifyAudioFeaturesNov2018.csv\")\n",
    "print(firstfile.info())\n",
    "print(secondfile.info())"
   ]
  },
  {
   "cell_type": "code",
   "execution_count": 2,
   "metadata": {},
   "outputs": [
    {
     "data": {
      "text/html": [
       "<div>\n",
       "<style scoped>\n",
       "    .dataframe tbody tr th:only-of-type {\n",
       "        vertical-align: middle;\n",
       "    }\n",
       "\n",
       "    .dataframe tbody tr th {\n",
       "        vertical-align: top;\n",
       "    }\n",
       "\n",
       "    .dataframe thead th {\n",
       "        text-align: right;\n",
       "    }\n",
       "</style>\n",
       "<table border=\"1\" class=\"dataframe\">\n",
       "  <thead>\n",
       "    <tr style=\"text-align: right;\">\n",
       "      <th></th>\n",
       "      <th>artist_name</th>\n",
       "      <th>track_id</th>\n",
       "      <th>track_name</th>\n",
       "      <th>acousticness</th>\n",
       "      <th>danceability</th>\n",
       "      <th>duration_ms</th>\n",
       "      <th>energy</th>\n",
       "      <th>instrumentalness</th>\n",
       "      <th>key</th>\n",
       "      <th>liveness</th>\n",
       "      <th>loudness</th>\n",
       "      <th>mode</th>\n",
       "      <th>speechiness</th>\n",
       "      <th>tempo</th>\n",
       "      <th>time_signature</th>\n",
       "      <th>valence</th>\n",
       "      <th>popularity</th>\n",
       "    </tr>\n",
       "  </thead>\n",
       "  <tbody>\n",
       "    <tr>\n",
       "      <th>0</th>\n",
       "      <td>YG</td>\n",
       "      <td>2RM4jf1Xa9zPgMGRDiht8O</td>\n",
       "      <td>Big Bank feat. 2 Chainz, Big Sean, Nicki Minaj</td>\n",
       "      <td>0.005820</td>\n",
       "      <td>0.743</td>\n",
       "      <td>238373</td>\n",
       "      <td>0.339</td>\n",
       "      <td>0.000</td>\n",
       "      <td>1</td>\n",
       "      <td>0.0812</td>\n",
       "      <td>-7.678</td>\n",
       "      <td>1</td>\n",
       "      <td>0.4090</td>\n",
       "      <td>203.927</td>\n",
       "      <td>4</td>\n",
       "      <td>0.118</td>\n",
       "      <td>15</td>\n",
       "    </tr>\n",
       "    <tr>\n",
       "      <th>1</th>\n",
       "      <td>YG</td>\n",
       "      <td>1tHDG53xJNGsItRA3vfVgs</td>\n",
       "      <td>BAND DRUM (feat. A$AP Rocky)</td>\n",
       "      <td>0.024400</td>\n",
       "      <td>0.846</td>\n",
       "      <td>214800</td>\n",
       "      <td>0.557</td>\n",
       "      <td>0.000</td>\n",
       "      <td>8</td>\n",
       "      <td>0.2860</td>\n",
       "      <td>-7.259</td>\n",
       "      <td>1</td>\n",
       "      <td>0.4570</td>\n",
       "      <td>159.009</td>\n",
       "      <td>4</td>\n",
       "      <td>0.371</td>\n",
       "      <td>0</td>\n",
       "    </tr>\n",
       "    <tr>\n",
       "      <th>2</th>\n",
       "      <td>R3HAB</td>\n",
       "      <td>6Wosx2euFPMT14UXiWudMy</td>\n",
       "      <td>Radio Silence</td>\n",
       "      <td>0.025000</td>\n",
       "      <td>0.603</td>\n",
       "      <td>138913</td>\n",
       "      <td>0.723</td>\n",
       "      <td>0.000</td>\n",
       "      <td>9</td>\n",
       "      <td>0.0824</td>\n",
       "      <td>-5.890</td>\n",
       "      <td>0</td>\n",
       "      <td>0.0454</td>\n",
       "      <td>114.966</td>\n",
       "      <td>4</td>\n",
       "      <td>0.382</td>\n",
       "      <td>56</td>\n",
       "    </tr>\n",
       "    <tr>\n",
       "      <th>3</th>\n",
       "      <td>Chris Cooq</td>\n",
       "      <td>3J2Jpw61sO7l6Hc7qdYV91</td>\n",
       "      <td>Lactose</td>\n",
       "      <td>0.029400</td>\n",
       "      <td>0.800</td>\n",
       "      <td>125381</td>\n",
       "      <td>0.579</td>\n",
       "      <td>0.912</td>\n",
       "      <td>5</td>\n",
       "      <td>0.0994</td>\n",
       "      <td>-12.118</td>\n",
       "      <td>0</td>\n",
       "      <td>0.0701</td>\n",
       "      <td>123.003</td>\n",
       "      <td>4</td>\n",
       "      <td>0.641</td>\n",
       "      <td>0</td>\n",
       "    </tr>\n",
       "    <tr>\n",
       "      <th>4</th>\n",
       "      <td>Chris Cooq</td>\n",
       "      <td>2jbYvQCyPgX3CdmAzeVeuS</td>\n",
       "      <td>Same - Original mix</td>\n",
       "      <td>0.000035</td>\n",
       "      <td>0.783</td>\n",
       "      <td>124016</td>\n",
       "      <td>0.792</td>\n",
       "      <td>0.878</td>\n",
       "      <td>7</td>\n",
       "      <td>0.0332</td>\n",
       "      <td>-10.277</td>\n",
       "      <td>1</td>\n",
       "      <td>0.0661</td>\n",
       "      <td>120.047</td>\n",
       "      <td>4</td>\n",
       "      <td>0.928</td>\n",
       "      <td>0</td>\n",
       "    </tr>\n",
       "    <tr>\n",
       "      <th>5</th>\n",
       "      <td>Curbo</td>\n",
       "      <td>26Y1lX7ZOpw9Ql3gGAlqLK</td>\n",
       "      <td>Debauchery - Original mix</td>\n",
       "      <td>0.001150</td>\n",
       "      <td>0.810</td>\n",
       "      <td>124016</td>\n",
       "      <td>0.417</td>\n",
       "      <td>0.919</td>\n",
       "      <td>9</td>\n",
       "      <td>0.1060</td>\n",
       "      <td>-10.783</td>\n",
       "      <td>0</td>\n",
       "      <td>0.0793</td>\n",
       "      <td>120.025</td>\n",
       "      <td>4</td>\n",
       "      <td>0.837</td>\n",
       "      <td>0</td>\n",
       "    </tr>\n",
       "    <tr>\n",
       "      <th>6</th>\n",
       "      <td>Bingo Play</td>\n",
       "      <td>5eIyK73BrxHLnly4F9PWqg</td>\n",
       "      <td>Grandma - Original mix</td>\n",
       "      <td>0.000539</td>\n",
       "      <td>0.819</td>\n",
       "      <td>132742</td>\n",
       "      <td>0.720</td>\n",
       "      <td>0.863</td>\n",
       "      <td>4</td>\n",
       "      <td>0.0727</td>\n",
       "      <td>-8.895</td>\n",
       "      <td>0</td>\n",
       "      <td>0.1510</td>\n",
       "      <td>124.003</td>\n",
       "      <td>4</td>\n",
       "      <td>0.934</td>\n",
       "      <td>0</td>\n",
       "    </tr>\n",
       "    <tr>\n",
       "      <th>7</th>\n",
       "      <td>G Herbo</td>\n",
       "      <td>13Mf2ZBpfNkgWJowvM5hXh</td>\n",
       "      <td>Bon appétit</td>\n",
       "      <td>0.115000</td>\n",
       "      <td>0.885</td>\n",
       "      <td>181838</td>\n",
       "      <td>0.348</td>\n",
       "      <td>0.000</td>\n",
       "      <td>9</td>\n",
       "      <td>0.1070</td>\n",
       "      <td>-12.569</td>\n",
       "      <td>1</td>\n",
       "      <td>0.4510</td>\n",
       "      <td>142.111</td>\n",
       "      <td>4</td>\n",
       "      <td>0.180</td>\n",
       "      <td>0</td>\n",
       "    </tr>\n",
       "    <tr>\n",
       "      <th>8</th>\n",
       "      <td>34 Feet</td>\n",
       "      <td>7BQaRTHk44DkMhIVNcXy2D</td>\n",
       "      <td>Among - Original mix</td>\n",
       "      <td>0.000058</td>\n",
       "      <td>0.740</td>\n",
       "      <td>124016</td>\n",
       "      <td>0.472</td>\n",
       "      <td>0.847</td>\n",
       "      <td>8</td>\n",
       "      <td>0.0959</td>\n",
       "      <td>-9.008</td>\n",
       "      <td>1</td>\n",
       "      <td>0.0551</td>\n",
       "      <td>120.034</td>\n",
       "      <td>4</td>\n",
       "      <td>0.622</td>\n",
       "      <td>0</td>\n",
       "    </tr>\n",
       "    <tr>\n",
       "      <th>9</th>\n",
       "      <td>Chris Cooq</td>\n",
       "      <td>049RxG2laEl9U1PGYeIqLV</td>\n",
       "      <td>Hazard - Original mix</td>\n",
       "      <td>0.000081</td>\n",
       "      <td>0.813</td>\n",
       "      <td>132742</td>\n",
       "      <td>0.731</td>\n",
       "      <td>0.910</td>\n",
       "      <td>11</td>\n",
       "      <td>0.0727</td>\n",
       "      <td>-8.932</td>\n",
       "      <td>1</td>\n",
       "      <td>0.0697</td>\n",
       "      <td>124.031</td>\n",
       "      <td>4</td>\n",
       "      <td>0.944</td>\n",
       "      <td>0</td>\n",
       "    </tr>\n",
       "  </tbody>\n",
       "</table>\n",
       "</div>"
      ],
      "text/plain": [
       "  artist_name                track_id  \\\n",
       "0          YG  2RM4jf1Xa9zPgMGRDiht8O   \n",
       "1          YG  1tHDG53xJNGsItRA3vfVgs   \n",
       "2       R3HAB  6Wosx2euFPMT14UXiWudMy   \n",
       "3  Chris Cooq  3J2Jpw61sO7l6Hc7qdYV91   \n",
       "4  Chris Cooq  2jbYvQCyPgX3CdmAzeVeuS   \n",
       "5       Curbo  26Y1lX7ZOpw9Ql3gGAlqLK   \n",
       "6  Bingo Play  5eIyK73BrxHLnly4F9PWqg   \n",
       "7     G Herbo  13Mf2ZBpfNkgWJowvM5hXh   \n",
       "8     34 Feet  7BQaRTHk44DkMhIVNcXy2D   \n",
       "9  Chris Cooq  049RxG2laEl9U1PGYeIqLV   \n",
       "\n",
       "                                       track_name  acousticness  danceability  \\\n",
       "0  Big Bank feat. 2 Chainz, Big Sean, Nicki Minaj      0.005820         0.743   \n",
       "1                    BAND DRUM (feat. A$AP Rocky)      0.024400         0.846   \n",
       "2                                   Radio Silence      0.025000         0.603   \n",
       "3                                         Lactose      0.029400         0.800   \n",
       "4                             Same - Original mix      0.000035         0.783   \n",
       "5                       Debauchery - Original mix      0.001150         0.810   \n",
       "6                          Grandma - Original mix      0.000539         0.819   \n",
       "7                                     Bon appétit      0.115000         0.885   \n",
       "8                            Among - Original mix      0.000058         0.740   \n",
       "9                           Hazard - Original mix      0.000081         0.813   \n",
       "\n",
       "   duration_ms  energy  instrumentalness  key  liveness  loudness  mode  \\\n",
       "0       238373   0.339             0.000    1    0.0812    -7.678     1   \n",
       "1       214800   0.557             0.000    8    0.2860    -7.259     1   \n",
       "2       138913   0.723             0.000    9    0.0824    -5.890     0   \n",
       "3       125381   0.579             0.912    5    0.0994   -12.118     0   \n",
       "4       124016   0.792             0.878    7    0.0332   -10.277     1   \n",
       "5       124016   0.417             0.919    9    0.1060   -10.783     0   \n",
       "6       132742   0.720             0.863    4    0.0727    -8.895     0   \n",
       "7       181838   0.348             0.000    9    0.1070   -12.569     1   \n",
       "8       124016   0.472             0.847    8    0.0959    -9.008     1   \n",
       "9       132742   0.731             0.910   11    0.0727    -8.932     1   \n",
       "\n",
       "   speechiness    tempo  time_signature  valence  popularity  \n",
       "0       0.4090  203.927               4    0.118          15  \n",
       "1       0.4570  159.009               4    0.371           0  \n",
       "2       0.0454  114.966               4    0.382          56  \n",
       "3       0.0701  123.003               4    0.641           0  \n",
       "4       0.0661  120.047               4    0.928           0  \n",
       "5       0.0793  120.025               4    0.837           0  \n",
       "6       0.1510  124.003               4    0.934           0  \n",
       "7       0.4510  142.111               4    0.180           0  \n",
       "8       0.0551  120.034               4    0.622           0  \n",
       "9       0.0697  124.031               4    0.944           0  "
      ]
     },
     "execution_count": 2,
     "metadata": {},
     "output_type": "execute_result"
    }
   ],
   "source": [
    "#les 2 fichiers ont la même structure, on peut donc facilement les combiner en un seul fichier \n",
    "df = pd.concat([firstfile, secondfile], ignore_index=True)\n",
    "df.head(10)\n"
   ]
  },
  {
   "cell_type": "code",
   "execution_count": 3,
   "metadata": {},
   "outputs": [
    {
     "data": {
      "text/plain": [
       "(247035, 17)"
      ]
     },
     "execution_count": 3,
     "metadata": {},
     "output_type": "execute_result"
    }
   ],
   "source": [
    "df.shape"
   ]
  },
  {
   "cell_type": "code",
   "execution_count": 4,
   "metadata": {},
   "outputs": [
    {
     "name": "stdout",
     "output_type": "stream",
     "text": [
      "<class 'pandas.core.frame.DataFrame'>\n",
      "RangeIndex: 247035 entries, 0 to 247034\n",
      "Data columns (total 17 columns):\n",
      " #   Column            Non-Null Count   Dtype  \n",
      "---  ------            --------------   -----  \n",
      " 0   artist_name       247035 non-null  object \n",
      " 1   track_id          247035 non-null  object \n",
      " 2   track_name        247035 non-null  object \n",
      " 3   acousticness      247035 non-null  float64\n",
      " 4   danceability      247035 non-null  float64\n",
      " 5   duration_ms       247035 non-null  int64  \n",
      " 6   energy            247035 non-null  float64\n",
      " 7   instrumentalness  247035 non-null  float64\n",
      " 8   key               247035 non-null  int64  \n",
      " 9   liveness          247035 non-null  float64\n",
      " 10  loudness          247035 non-null  float64\n",
      " 11  mode              247035 non-null  int64  \n",
      " 12  speechiness       247035 non-null  float64\n",
      " 13  tempo             247035 non-null  float64\n",
      " 14  time_signature    247035 non-null  int64  \n",
      " 15  valence           247035 non-null  float64\n",
      " 16  popularity        247035 non-null  int64  \n",
      "dtypes: float64(9), int64(5), object(3)\n",
      "memory usage: 32.0+ MB\n"
     ]
    }
   ],
   "source": [
    "df.info()"
   ]
  },
  {
   "cell_type": "code",
   "execution_count": 5,
   "metadata": {},
   "outputs": [],
   "source": [
    "# on passe tous les champs object en tant que string\n",
    "df.astype({\"artist_name\": str, \"track_id\": str, \"track_name\":str})\n",
    "df.drop_duplicates(subset =\"track_id\", keep = 'first', inplace=True)"
   ]
  },
  {
   "cell_type": "code",
   "execution_count": 6,
   "metadata": {},
   "outputs": [
    {
     "data": {
      "text/html": [
       "<div>\n",
       "<style scoped>\n",
       "    .dataframe tbody tr th:only-of-type {\n",
       "        vertical-align: middle;\n",
       "    }\n",
       "\n",
       "    .dataframe tbody tr th {\n",
       "        vertical-align: top;\n",
       "    }\n",
       "\n",
       "    .dataframe thead th {\n",
       "        text-align: right;\n",
       "    }\n",
       "</style>\n",
       "<table border=\"1\" class=\"dataframe\">\n",
       "  <thead>\n",
       "    <tr style=\"text-align: right;\">\n",
       "      <th></th>\n",
       "      <th>acousticness</th>\n",
       "      <th>danceability</th>\n",
       "      <th>duration_ms</th>\n",
       "      <th>energy</th>\n",
       "      <th>instrumentalness</th>\n",
       "      <th>key</th>\n",
       "      <th>liveness</th>\n",
       "      <th>loudness</th>\n",
       "      <th>mode</th>\n",
       "      <th>speechiness</th>\n",
       "      <th>tempo</th>\n",
       "      <th>time_signature</th>\n",
       "      <th>valence</th>\n",
       "      <th>popularity</th>\n",
       "    </tr>\n",
       "  </thead>\n",
       "  <tbody>\n",
       "    <tr>\n",
       "      <th>count</th>\n",
       "      <td>130989.000000</td>\n",
       "      <td>130989.000000</td>\n",
       "      <td>1.309890e+05</td>\n",
       "      <td>130989.000000</td>\n",
       "      <td>130989.000000</td>\n",
       "      <td>130989.000000</td>\n",
       "      <td>130989.000000</td>\n",
       "      <td>130989.000000</td>\n",
       "      <td>130989.000000</td>\n",
       "      <td>130989.000000</td>\n",
       "      <td>130989.000000</td>\n",
       "      <td>130989.000000</td>\n",
       "      <td>130989.000000</td>\n",
       "      <td>130989.000000</td>\n",
       "    </tr>\n",
       "    <tr>\n",
       "      <th>mean</th>\n",
       "      <td>0.342466</td>\n",
       "      <td>0.581478</td>\n",
       "      <td>2.126767e+05</td>\n",
       "      <td>0.569244</td>\n",
       "      <td>0.223862</td>\n",
       "      <td>5.233035</td>\n",
       "      <td>0.194918</td>\n",
       "      <td>-9.971758</td>\n",
       "      <td>0.607967</td>\n",
       "      <td>0.111966</td>\n",
       "      <td>119.467241</td>\n",
       "      <td>3.878891</td>\n",
       "      <td>0.439682</td>\n",
       "      <td>24.242608</td>\n",
       "    </tr>\n",
       "    <tr>\n",
       "      <th>std</th>\n",
       "      <td>0.345645</td>\n",
       "      <td>0.190024</td>\n",
       "      <td>1.231036e+05</td>\n",
       "      <td>0.260368</td>\n",
       "      <td>0.360274</td>\n",
       "      <td>3.602837</td>\n",
       "      <td>0.167787</td>\n",
       "      <td>6.545917</td>\n",
       "      <td>0.488206</td>\n",
       "      <td>0.124297</td>\n",
       "      <td>30.154448</td>\n",
       "      <td>0.514536</td>\n",
       "      <td>0.259075</td>\n",
       "      <td>19.727393</td>\n",
       "    </tr>\n",
       "    <tr>\n",
       "      <th>min</th>\n",
       "      <td>0.000000</td>\n",
       "      <td>0.000000</td>\n",
       "      <td>3.203000e+03</td>\n",
       "      <td>0.000000</td>\n",
       "      <td>0.000000</td>\n",
       "      <td>0.000000</td>\n",
       "      <td>0.000000</td>\n",
       "      <td>-60.000000</td>\n",
       "      <td>0.000000</td>\n",
       "      <td>0.000000</td>\n",
       "      <td>0.000000</td>\n",
       "      <td>0.000000</td>\n",
       "      <td>0.000000</td>\n",
       "      <td>0.000000</td>\n",
       "    </tr>\n",
       "    <tr>\n",
       "      <th>25%</th>\n",
       "      <td>0.031600</td>\n",
       "      <td>0.459000</td>\n",
       "      <td>1.640000e+05</td>\n",
       "      <td>0.396000</td>\n",
       "      <td>0.000000</td>\n",
       "      <td>2.000000</td>\n",
       "      <td>0.097500</td>\n",
       "      <td>-11.894000</td>\n",
       "      <td>0.000000</td>\n",
       "      <td>0.038900</td>\n",
       "      <td>96.014000</td>\n",
       "      <td>4.000000</td>\n",
       "      <td>0.224000</td>\n",
       "      <td>7.000000</td>\n",
       "    </tr>\n",
       "    <tr>\n",
       "      <th>50%</th>\n",
       "      <td>0.203000</td>\n",
       "      <td>0.605000</td>\n",
       "      <td>2.019310e+05</td>\n",
       "      <td>0.603000</td>\n",
       "      <td>0.000146</td>\n",
       "      <td>5.000000</td>\n",
       "      <td>0.124000</td>\n",
       "      <td>-7.973000</td>\n",
       "      <td>1.000000</td>\n",
       "      <td>0.055800</td>\n",
       "      <td>120.026000</td>\n",
       "      <td>4.000000</td>\n",
       "      <td>0.420000</td>\n",
       "      <td>22.000000</td>\n",
       "    </tr>\n",
       "    <tr>\n",
       "      <th>75%</th>\n",
       "      <td>0.636000</td>\n",
       "      <td>0.727000</td>\n",
       "      <td>2.410540e+05</td>\n",
       "      <td>0.776000</td>\n",
       "      <td>0.439000</td>\n",
       "      <td>8.000000</td>\n",
       "      <td>0.236000</td>\n",
       "      <td>-5.681000</td>\n",
       "      <td>1.000000</td>\n",
       "      <td>0.129000</td>\n",
       "      <td>139.621000</td>\n",
       "      <td>4.000000</td>\n",
       "      <td>0.638000</td>\n",
       "      <td>38.000000</td>\n",
       "    </tr>\n",
       "    <tr>\n",
       "      <th>max</th>\n",
       "      <td>0.996000</td>\n",
       "      <td>0.996000</td>\n",
       "      <td>5.610020e+06</td>\n",
       "      <td>1.000000</td>\n",
       "      <td>1.000000</td>\n",
       "      <td>11.000000</td>\n",
       "      <td>0.999000</td>\n",
       "      <td>1.806000</td>\n",
       "      <td>1.000000</td>\n",
       "      <td>0.966000</td>\n",
       "      <td>249.983000</td>\n",
       "      <td>5.000000</td>\n",
       "      <td>1.000000</td>\n",
       "      <td>100.000000</td>\n",
       "    </tr>\n",
       "  </tbody>\n",
       "</table>\n",
       "</div>"
      ],
      "text/plain": [
       "        acousticness   danceability   duration_ms         energy  \\\n",
       "count  130989.000000  130989.000000  1.309890e+05  130989.000000   \n",
       "mean        0.342466       0.581478  2.126767e+05       0.569244   \n",
       "std         0.345645       0.190024  1.231036e+05       0.260368   \n",
       "min         0.000000       0.000000  3.203000e+03       0.000000   \n",
       "25%         0.031600       0.459000  1.640000e+05       0.396000   \n",
       "50%         0.203000       0.605000  2.019310e+05       0.603000   \n",
       "75%         0.636000       0.727000  2.410540e+05       0.776000   \n",
       "max         0.996000       0.996000  5.610020e+06       1.000000   \n",
       "\n",
       "       instrumentalness            key       liveness       loudness  \\\n",
       "count     130989.000000  130989.000000  130989.000000  130989.000000   \n",
       "mean           0.223862       5.233035       0.194918      -9.971758   \n",
       "std            0.360274       3.602837       0.167787       6.545917   \n",
       "min            0.000000       0.000000       0.000000     -60.000000   \n",
       "25%            0.000000       2.000000       0.097500     -11.894000   \n",
       "50%            0.000146       5.000000       0.124000      -7.973000   \n",
       "75%            0.439000       8.000000       0.236000      -5.681000   \n",
       "max            1.000000      11.000000       0.999000       1.806000   \n",
       "\n",
       "                mode    speechiness          tempo  time_signature  \\\n",
       "count  130989.000000  130989.000000  130989.000000   130989.000000   \n",
       "mean        0.607967       0.111966     119.467241        3.878891   \n",
       "std         0.488206       0.124297      30.154448        0.514536   \n",
       "min         0.000000       0.000000       0.000000        0.000000   \n",
       "25%         0.000000       0.038900      96.014000        4.000000   \n",
       "50%         1.000000       0.055800     120.026000        4.000000   \n",
       "75%         1.000000       0.129000     139.621000        4.000000   \n",
       "max         1.000000       0.966000     249.983000        5.000000   \n",
       "\n",
       "             valence     popularity  \n",
       "count  130989.000000  130989.000000  \n",
       "mean        0.439682      24.242608  \n",
       "std         0.259075      19.727393  \n",
       "min         0.000000       0.000000  \n",
       "25%         0.224000       7.000000  \n",
       "50%         0.420000      22.000000  \n",
       "75%         0.638000      38.000000  \n",
       "max         1.000000     100.000000  "
      ]
     },
     "execution_count": 6,
     "metadata": {},
     "output_type": "execute_result"
    }
   ],
   "source": [
    "df.describe()"
   ]
  },
  {
   "cell_type": "code",
   "execution_count": 7,
   "metadata": {},
   "outputs": [
    {
     "data": {
      "text/plain": [
       "<function matplotlib.pyplot.show(close=None, block=None)>"
      ]
     },
     "execution_count": 7,
     "metadata": {},
     "output_type": "execute_result"
    },
    {
     "data": {
      "image/png": "[encoded data removed]",
      "text/plain": [
       "<Figure size 1440x1080 with 16 Axes>"
      ]
     },
     "metadata": {
      "needs_background": "light"
     },
     "output_type": "display_data"
    }
   ],
   "source": [
    "%matplotlib inline\n",
    "import matplotlib.pyplot as plt\n",
    "\n",
    "df.hist(bins=50, figsize=(20,15))\n",
    "plt.show"
   ]
  },
  {
   "cell_type": "code",
   "execution_count": 8,
   "metadata": {},
   "outputs": [
    {
     "data": {
      "text/plain": [
       "<function matplotlib.pyplot.show(close=None, block=None)>"
      ]
     },
     "execution_count": 8,
     "metadata": {},
     "output_type": "execute_result"
    },
    {
     "data": {
      "image/png": "[encoded data removed]",
      "text/plain": [
       "<Figure size 1440x1080 with 1 Axes>"
      ]
     },
     "metadata": {
      "needs_background": "light"
     },
     "output_type": "display_data"
    }
   ],
   "source": [
    "#on enlève duration_ms dont les valeurs sont trop grandes et pas forcément informatives\n",
    "dfToBoxPlot=df.drop([\"duration_ms\"],1)\n",
    "dfToBoxPlot.boxplot(figsize=(20,15))\n",
    "plt.show"
   ]
  },
  {
   "cell_type": "markdown",
   "metadata": {},
   "source": [
    "Un petit commentaire ici: la plupart des boxplot ne sont pas visibles pour des problèmes d'échelles. Le moment venu d'enlever les outliers (ou de savoir quoi en faire, tout du moins), il sera intéressant de les afficher une à une pour une meilleure visibilité."
   ]
  },
  {
   "cell_type": "markdown",
   "metadata": {},
   "source": [
    "# Etape 1: Pre processing:\n",
    "    Y a-t-il des valeurs aberrantes (outliers) ou manquantes? Le clustering est-il envisageable?\n",
    "   \n",
    "   "
   ]
  },
  {
   "cell_type": "code",
   "execution_count": 9,
   "metadata": {},
   "outputs": [
    {
     "data": {
      "image/png": "[encoded data removed]",
      "text/plain": [
       "<Figure size 432x288 with 2 Axes>"
      ]
     },
     "metadata": {
      "needs_background": "light"
     },
     "output_type": "display_data"
    }
   ],
   "source": [
    "#vérification du dataset\n",
    "#1 - etude des correlations\n",
    "\n",
    "\n",
    "\n",
    "import seaborn as sns\n",
    "corr = df.corr()\n",
    "ax = sns.heatmap(\n",
    "    corr, \n",
    "    vmin=-1, vmax=1, center=0,\n",
    "    cmap=sns.diverging_palette(20, 220, n=200),\n",
    "    square=True\n",
    ")\n",
    "ax.set_xticklabels(\n",
    "    ax.get_xticklabels(),\n",
    "    rotation=45,\n",
    "    horizontalalignment='right'\n",
    ");"
   ]
  },
  {
   "cell_type": "code",
   "execution_count": 10,
   "metadata": {},
   "outputs": [],
   "source": [
    "# !pip install pyclustertend"
   ]
  },
  {
   "cell_type": "code",
   "execution_count": 11,
   "metadata": {},
   "outputs": [
    {
     "data": {
      "text/plain": [
       "0"
      ]
     },
     "execution_count": 11,
     "metadata": {},
     "output_type": "execute_result"
    }
   ],
   "source": [
    "#valeurs manquantes :\n",
    "df.isna().sum().sum()"
   ]
  },
  {
   "cell_type": "markdown",
   "metadata": {},
   "source": [
    "# chercher les outliers éventuels et décider quoi en faire\n",
    "\n",
    "-basez-vous sur les histogrammes et boxplot présentés précédemment"
   ]
  },
  {
   "cell_type": "code",
   "execution_count": null,
   "metadata": {},
   "outputs": [],
   "source": []
  },
  {
   "cell_type": "code",
   "execution_count": 12,
   "metadata": {},
   "outputs": [],
   "source": [
    "#archi déconseillé de lancer les lignes suivantes en cours car très long! Le résultat est amené comme image ci-dessous...\n",
    "#scale dataset\n",
    "\n",
    "#on enleve les colonnes non numériques\n",
    "#dfToScale = df.drop([\"artist_name\",\"track_id\",\"track_name\"],1)\n",
    "#dfToScale\n",
    "#from sklearn.preprocessing import MaxAbsScaler\n",
    "#transformer = MaxAbsScaler().fit(dfToScale)\n",
    "#transformer.transform(dfToScale)\n",
    "#\n",
    "#\n",
    "#\n",
    "#from pyclustertend import hopkins\n",
    "\n",
    "#hopkins(scale(dfToScale), df.shape[0])"
   ]
  },
  {
   "attachments": {
    "image.png": {
     "image/png": "[encoded data removed]"
    }
   },
   "cell_type": "markdown",
   "metadata": {},
   "source": [
    "![image.png](attachment:image.png)"
   ]
  },
  {
   "cell_type": "markdown",
   "metadata": {},
   "source": [
    "le test est issu de l'implémentation: https://pyclustertend.readthedocs.io/en/latest/\n",
    "==>Semble-t-il y avoir des clusters?"
   ]
  },
  {
   "cell_type": "markdown",
   "metadata": {},
   "source": [
    "## Etape 2: normalisation/standardisation\n",
    "Pour tous les attributs que vous avez conservés suite à l'étape 1:\n",
    "\n",
    "\n",
    "-Comprenez à quoi ils font référence: semblent-ils utiles ou non pour établir une playlist de morceaux 'qui vont bien ensemble'\n",
    "\n",
    "\n",
    "-Etudiez leur valeurs max, min et leur dispersion (quartiles, moyenne, médiane, écart type): faut-il les normaliser? Si oui, faites-le!\n",
    "\n",
    "Hint: dans le commentaire ci-dessus, afin de calculer le test d'Hopkins, j'ai dû passer par une normalisation des colonnes numériques du dataset => Inspirez-vous en, c'est gratuit!"
   ]
  },
  {
   "cell_type": "code",
   "execution_count": 13,
   "metadata": {
    "scrolled": true
   },
   "outputs": [],
   "source": [
    "# normalisation standardisation et dernières préparations souhaitées du dataset\n",
    "\n",
    "df=df.drop('acousticness',1)\n",
    "df=df.drop('loudness',1)\n",
    "df=df.drop('track_id',1)\n",
    "df=df.drop('artist_name',1)\n",
    "df=df.drop('track_name',1)\n",
    "\n"
   ]
  },
  {
   "cell_type": "code",
   "execution_count": 14,
   "metadata": {},
   "outputs": [],
   "source": [
    "#from sklearn.preprocessing import MinMaxScaler\n",
    "#df_norm=MinMaxScaler().fit(df)"
   ]
  },
  {
   "cell_type": "markdown",
   "metadata": {},
   "source": [
    "## Etape3 : c'est le moment de s'amuser!\n",
    "\n",
    "Voilà vos données toutes propres sur elles: à vous de jouer!\n",
    "\n",
    "Vous avez [ici](https://scikit-learn.org/stable/modules/clustering.html) à disposition tous les outils de clustering de scikit-learn.\n",
    "[ici](https://scikit-learn.org/stable/modules/clustering.html) à disposition tous les outils de clustering de scikit-learn.\n",
    "\n",
    "N.B. Comme d'habitude, on suit un processur itératif on teste, on évalue, on améliore :)"
   ]
  },
  {
   "cell_type": "code",
   "execution_count": 19,
   "metadata": {},
   "outputs": [],
   "source": [
    "#print(df.head())\n",
    "df_nump = df.to_numpy()\n"
   ]
  },
  {
   "cell_type": "code",
   "execution_count": 20,
   "metadata": {},
   "outputs": [
    {
     "name": "stdout",
     "output_type": "stream",
     "text": [
      "[[7.43000e-01 2.38373e+05 3.39000e-01 ... 4.00000e+00 1.18000e-01\n",
      "  1.50000e+01]\n",
      " [8.46000e-01 2.14800e+05 5.57000e-01 ... 4.00000e+00 3.71000e-01\n",
      "  0.00000e+00]\n",
      " [6.03000e-01 1.38913e+05 7.23000e-01 ... 4.00000e+00 3.82000e-01\n",
      "  5.60000e+01]\n",
      " ...\n",
      " [3.43000e-01 3.24920e+05 4.87000e-01 ... 4.00000e+00 3.65000e-01\n",
      "  4.50000e+01]\n",
      " [3.80000e-01 4.23377e+05 3.99000e-01 ... 3.00000e+00 1.05000e-01\n",
      "  4.90000e+01]\n",
      " [8.34000e-01 2.40353e+05 5.17000e-01 ... 4.00000e+00 1.93000e-01\n",
      "  5.30000e+01]]\n"
     ]
    }
   ],
   "source": [
    "print(df_nump)"
   ]
  },
  {
   "cell_type": "code",
   "execution_count": 23,
   "metadata": {},
   "outputs": [],
   "source": [
    "#application au moins d'un clustering type k-means \n",
    "#(avec sélection d'un score et affichage en fonction de k pour appliquer la méthode elbow)\n",
    "\n",
    "\n",
    "from sklearn.cluster import KMeans\n",
    "from sklearn.metrics import silhouette_score\n",
    "inertia_scores = {}\n",
    "inertia_lists = []\n",
    "silhouette_scores = {}\n",
    "silhouette_list = []\n",
    "n_clusters = 2\n",
    "for k in range (2,20) :\n",
    "    kmeans = KMeans(n_clusters=k).fit(df_nump)\n",
    "    clusters= kmeans.predict(df_nump)\n",
    "    sScore=silhouette_score(df_nump,clusters)\n",
    "    silhouette_list.append(sScore)\n",
    "    silhouette_scores[k]=sScore\n",
    "    inertia_scores[k]=kmeans.inertia_\n",
    "    inertia_lists.append(kmeans.inertia_)\n",
    "    \n"
   ]
  },
  {
   "cell_type": "code",
   "execution_count": 24,
   "metadata": {},
   "outputs": [
    {
     "data": {
      "image/png": "[encoded data removed]",
      "text/plain": [
       "<Figure size 432x288 with 1 Axes>"
      ]
     },
     "metadata": {
      "needs_background": "light"
     },
     "output_type": "display_data"
    },
    {
     "data": {
      "image/png": "[encoded data removed]",
      "text/plain": [
       "<Figure size 432x288 with 1 Axes>"
      ]
     },
     "metadata": {
      "needs_background": "light"
     },
     "output_type": "display_data"
    }
   ],
   "source": [
    "k_range=range(2,20)\n",
    "plt.plot(k_range,inertia_lists)\n",
    "plt.xlabel('k, number of clusters')\n",
    "plt.ylabel('Inertia')\n",
    "plt.show()\n",
    "\n",
    "plt.plot(k_range,silhouette_list)\n",
    "plt.xlabel('k, number of clusters')\n",
    "plt.ylabel('Silhouette score')\n",
    "plt.show()"
   ]
  },
  {
   "cell_type": "markdown",
   "metadata": {},
   "source": [
    "## Etape 4 - question subsidiaire : appliquer DBSCAN, obtient-on de meilleurs résultats?"
   ]
  },
  {
   "cell_type": "code",
   "execution_count": 29,
   "metadata": {},
   "outputs": [],
   "source": [
    "#https://scikit-learn.org/stable/modules/generated/sklearn.cluster.DBSCAN.html#sklearn.cluster.DBSCAN\n",
    "from sklearn.cluster import DBSCAN\n",
    "clustering = DBSCAN().fit(df_nump)\n",
    "nb_clusters = clustering.fit_predict(df_nump)"
   ]
  },
  {
   "cell_type": "code",
   "execution_count": 31,
   "metadata": {},
   "outputs": [
    {
     "name": "stdout",
     "output_type": "stream",
     "text": [
      "[-1 -1 -1 ... -1 -1 -1]\n",
      "DBSCAN()\n"
     ]
    }
   ],
   "source": [
    "print(nb_clusters)\n",
    "print(clustering)"
   ]
  },
  {
   "cell_type": "code",
   "execution_count": 34,
   "metadata": {},
   "outputs": [],
   "source": [
    "labels=clustering.labels_"
   ]
  },
  {
   "cell_type": "code",
   "execution_count": 35,
   "metadata": {},
   "outputs": [
    {
     "name": "stdout",
     "output_type": "stream",
     "text": [
      "[-1 -1 -1 ... -1 -1 -1]\n",
      "[     4     10     13     15     16     18     19     21     37     38\n",
      "    184    440    775    792    891   1158   1800   1925   1934   1959\n",
      "   1988   2005   2018   2031   2063   2073   2135   2139   2218   2221\n",
      "   2276   2351   2361   2444   2604   2605   2703   2783   2800   2801\n",
      "   2802   2804   2810   2813   2815   2821   2827   2830   2843   2852\n",
      "   2853   2864   2872   3189   3441   3855   3916   3949   3976   4007\n",
      "   4101   4179   4186   4491   4493   5518   5612   5819   5907   6050\n",
      "   6122   6144   6355   6378   6434   6611   6709   6819   6830   6950\n",
      "   7231   7245   7258   7269   7417   7996   8191   8386   8405   8825\n",
      "   9409   9768   9902  10450  10541  10579  10912  11272  11574  12316\n",
      "  13480  13728  14927  15555  19851  22436  22437  22438  22441  22443\n",
      "  22444  22445  22446  22447  22449  22450  22452  22453  22454  24922\n",
      "  24923  24924  24925  25053  25054  25063  25064  25065  25066  25067\n",
      "  25068  25069  25070  25071  25072  25073  25074  25075  25083  25218\n",
      "  25219  25220  25221  25222  25223  25224  25225  25226  25228  25235\n",
      "  25236  25237  25238  25239  25266  25267  25268  29576  29578  29579\n",
      "  29580  29762  29764  29765  29766  29767  29768  29769  36421  36422\n",
      "  36424  36425  36426  36427  36428  36527  36693  36695  36739  36740\n",
      "  36741  36749  36750  40602  43241  43242  43243  43244  43245  43246\n",
      "  43247  43248  43249  43250  43251  43252  43253  43255  43256  43257\n",
      "  43258  43259  43260  43613  44109  47788  53172  56943  57908  58605\n",
      "  58746  65789  69528  69529  69530  69531  69532  69534  69535  69536\n",
      "  69537  69538  69540  69541  69543  69544  69545  69546  70982  70983\n",
      "  70984  70985  70986  70987  70988  70989  70990  70991  70992  70993\n",
      "  70994  70995  70996  70997  70998  70999  71000  71001  72369  74066\n",
      "  74087  76128  82467  82468  82469  82470  82471  82472  82473  82474\n",
      "  82475  82476  82477  82478  82479  82480  82481  82482  82483  82484\n",
      "  82485  82486  86208  86209  86210  86211  86212  86213  86214  86215\n",
      "  86216  86217  86218  86219  86220  86221  86222  86223  86224  86225\n",
      "  86226  86227  89675 103752 103753 103764 103780 103812 103836 103978\n",
      " 104152 104170 104204 104227 104233 104237 104278 104303 104312 104362\n",
      " 104371 104380 104591 104655 104771 104893 104916 105216 105227 105235\n",
      " 105242 105256 105270 105291 105303 105310 105316 105329 105342 105357\n",
      " 105370 105404 105454 105796 105797 105799 105804 105853 105970 106027\n",
      " 106041 106059 106060 106086 106092 106113 106133 106164 106186 106190\n",
      " 106209 106247 106322 106344 106785 106788 106790 106811 106850 106867\n",
      " 106868 106874 106882 106893 106902 106909 106920 106932 106943 106946\n",
      " 106950 106952 106964 106973 106976 106979 106996 107006 107045 107109\n",
      " 107139 107148 107150 107162 107953 107966 108004 108035 108054 108055\n",
      " 108418 108935 108969 108970 108994 110796 124284 124288 124289 124296\n",
      " 124297]\n"
     ]
    }
   ],
   "source": [
    "print(clustering.labels_)\n",
    "print(clustering.core_sample_indices_)"
   ]
  },
  {
   "cell_type": "code",
   "execution_count": 37,
   "metadata": {},
   "outputs": [],
   "source": [
    "n_clusters_ = len(set(labels)) - (1 if -1 in labels else 0)\n",
    "n_noise_ = list(labels).count(-1)"
   ]
  },
  {
   "cell_type": "code",
   "execution_count": 38,
   "metadata": {},
   "outputs": [
    {
     "name": "stdout",
     "output_type": "stream",
     "text": [
      "Estimated number of clusters: 47\n",
      "Estimated number of noise points: 130570\n"
     ]
    }
   ],
   "source": [
    "print('Estimated number of clusters: %d' % n_clusters_)\n",
    "print('Estimated number of noise points: %d' % n_noise_)"
   ]
  },
  {
   "cell_type": "code",
   "execution_count": null,
   "metadata": {},
   "outputs": [],
   "source": []
  }
 ],
 "metadata": {
  "kernelspec": {
   "display_name": "Python 3",
   "language": "python",
   "name": "python3"
  },
  "language_info": {
   "codemirror_mode": {
    "name": "ipython",
    "version": 3
   },
   "file_extension": ".py",
   "mimetype": "text/x-python",
   "name": "python",
   "nbconvert_exporter": "python",
   "pygments_lexer": "ipython3",
   "version": "3.8.8"
  }
 },
 "nbformat": 4,
 "nbformat_minor": 4
}
